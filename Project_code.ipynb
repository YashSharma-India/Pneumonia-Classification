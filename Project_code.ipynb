{
 "cells": [
  {
   "cell_type": "markdown",
   "id": "1c4febad",
   "metadata": {},
   "source": [
    "## Preprocessing"
   ]
  },
  {
   "cell_type": "code",
   "execution_count": null,
   "id": "b6582535",
   "metadata": {},
   "outputs": [],
   "source": [
    "from pathlib import Path\n",
    "import pydicom\n",
    "import numpy as np\n",
    "import cv2\n",
    "import pandas as pd\n",
    "import matplotlib.pyplot as plt\n",
    "from tqdm.notebook import tqdm"
   ]
  },
  {
   "cell_type": "code",
   "execution_count": null,
   "id": "149bfa69",
   "metadata": {},
   "outputs": [],
   "source": [
    "labels = pd.read_csv(\"C:/Users/yashs/Desktop/Pneumonia_Classification/Pneumonia_dataset/stage_2_train_labels.csv\")"
   ]
  },
  {
   "cell_type": "code",
   "execution_count": null,
   "id": "1975e40d",
   "metadata": {},
   "outputs": [],
   "source": [
    "labels.head(6)"
   ]
  },
  {
   "cell_type": "code",
   "execution_count": null,
   "id": "388932f4",
   "metadata": {},
   "outputs": [],
   "source": [
    "# Remove duplicate entries\n",
    "labels = labels.drop_duplicates(\"patientId\")"
   ]
  },
  {
   "cell_type": "code",
   "execution_count": null,
   "id": "3dbbd515",
   "metadata": {},
   "outputs": [],
   "source": [
    "labels.head()"
   ]
  },
  {
   "cell_type": "code",
   "execution_count": null,
   "id": "29ef2e0c",
   "metadata": {},
   "outputs": [],
   "source": [
    "ROOT_PATH = Path(\"C:/Users/yashs/Desktop/Pneumonia_Classification/Pneumonia_dataset/stage_2_train_images/\")\n",
    "SAVE_PATH = Path(\"C:/Users/yashs/Desktop/Pneumonia_Classification/Pneumonia_dataset/Processed/\")"
   ]
  },
  {
   "cell_type": "code",
   "execution_count": null,
   "id": "5bf22e21",
   "metadata": {},
   "outputs": [],
   "source": [
    "fig, axis = plt.subplots(3, 3, figsize=(9, 9))\n",
    "c = 0\n",
    "for i in range(3):\n",
    "    for j in range(3):\n",
    "        patient_id = labels.patientId.iloc[c]\n",
    "        dcm_path = ROOT_PATH/patient_id\n",
    "        dcm_path = dcm_path.with_suffix(\".dcm\")\n",
    "        dcm = pydicom.read_file(dcm_path).pixel_array\n",
    "        \n",
    "        label = labels[\"Target\"].iloc[c]\n",
    "        \n",
    "        axis[i][j].imshow(dcm, cmap=\"bone\")\n",
    "        axis[i][j].set_title(label)\n",
    "        c+=1"
   ]
  },
  {
   "cell_type": "code",
   "execution_count": null,
   "id": "0db4b7cd",
   "metadata": {},
   "outputs": [],
   "source": [
    "sums = 0\n",
    "sums_squared = 0\n",
    "\n",
    "for c, patient_id in enumerate(tqdm(labels.patientId)):\n",
    "    dcm_path = ROOT_PATH/patient_id  # Create the path to the dcm file\n",
    "    dcm_path = dcm_path.with_suffix(\".dcm\")  # And add the .dcm suffix\n",
    "    \n",
    "    # Read the dicom file with pydicom and standardize the array\n",
    "    dcm = pydicom.read_file(dcm_path).pixel_array / 255  \n",
    "        \n",
    "    # Resize the image as 1024x1024 is way to large to be handeled by Deep Learning models at the moment\n",
    "    # Let's use a shape of 224x224\n",
    "    # In order to use less space when storing the image we convert it to float16\n",
    "    dcm_array = cv2.resize(dcm, (224, 224)).astype(np.float16)\n",
    "    \n",
    "    # Retrieve the corresponding label\n",
    "    label = labels.Target.iloc[c]\n",
    "    \n",
    "    # 4/5 train split, 1/5 val split\n",
    "    train_or_val = \"train\" if c < 24000 else \"val\" \n",
    "        \n",
    "    current_save_path = SAVE_PATH/train_or_val/str(label) # Define save path and create if necessary\n",
    "    current_save_path.mkdir(parents=True, exist_ok=True)\n",
    "    np.save(current_save_path/patient_id, dcm_array)  # Save the array in the corresponding directory\n",
    "    \n",
    "    normalizer = dcm_array.shape[0] * dcm_array.shape[1]  # Normalize sum of image\n",
    "    if train_or_val == \"train\":  # Only use train data to compute dataset statistics\n",
    "        sums += np.sum(dcm_array) / normalizer\n",
    "        sums_squared += (np.power(dcm_array, 2).sum()) / normalizer\n"
   ]
  },
  {
   "cell_type": "code",
   "execution_count": null,
   "id": "54108dc9",
   "metadata": {},
   "outputs": [],
   "source": [
    "mean = sums / 24000\n",
    "std = np.sqrt(sums_squared / 24000 - (mean**2))"
   ]
  },
  {
   "cell_type": "code",
   "execution_count": null,
   "id": "9715e6de",
   "metadata": {},
   "outputs": [],
   "source": [
    "print(f\"Mean of Dataset: {mean}, STD: {std}\")"
   ]
  },
  {
   "cell_type": "markdown",
   "id": "76c29fed",
   "metadata": {},
   "source": [
    "## Training"
   ]
  },
  {
   "cell_type": "code",
   "execution_count": null,
   "id": "2370d8d6",
   "metadata": {},
   "outputs": [],
   "source": [
    "import torch\n",
    "import torchvision\n",
    "from torchvision import transforms\n",
    "import torchmetrics\n",
    "import pytorch_lightning as pl\n",
    "from pytorch_lightning.callbacks import ModelCheckpoint\n",
    "from pytorch_lightning.loggers import TensorBoardLogger\n",
    "from tqdm.notebook import tqdm\n",
    "import numpy as np\n",
    "import matplotlib.pyplot as plt"
   ]
  },
  {
   "cell_type": "code",
   "execution_count": null,
   "id": "d00877d9",
   "metadata": {},
   "outputs": [],
   "source": [
    "def load_file(path):\n",
    "    return np.load(path).astype(np.float32)"
   ]
  },
  {
   "cell_type": "code",
   "execution_count": null,
   "id": "c93f88b2",
   "metadata": {},
   "outputs": [],
   "source": [
    "train_transforms = transforms.Compose([\n",
    "                                    transforms.ToTensor(),  # Convert numpy array to tensor\n",
    "                                    transforms.Normalize(0.49, 0.248),  # Use mean and std from preprocessing notebook\n",
    "                                    transforms.RandomAffine( # Data Augmentation\n",
    "                                        degrees=(-5, 5), translate=(0, 0.05), scale=(0.9, 1.1)),\n",
    "                                        transforms.RandomResizedCrop((224, 224), scale=(0.35, 1))\n",
    "\n",
    "])\n",
    "\n",
    "val_transforms = transforms.Compose([\n",
    "                                    transforms.ToTensor(),  # Convert numpy array to tensor\n",
    "                                    transforms.Normalize([0.49], [0.248]),  # Use mean and std from preprocessing notebook\n",
    "])\n",
    "\n",
    "\n"
   ]
  },
  {
   "cell_type": "code",
   "execution_count": null,
   "id": "9577bb1d",
   "metadata": {},
   "outputs": [],
   "source": [
    "train_dataset = torchvision.datasets.DatasetFolder(\n",
    "    \"C:/Users/yashs/Desktop/Pneumonia_Classification/Pneumonia_dataset/Processed/train/\",\n",
    "    loader=load_file, extensions=\"npy\", transform=train_transforms)\n",
    "\n",
    "val_dataset = torchvision.datasets.DatasetFolder(\n",
    "    \"C:/Users/yashs/Desktop/Pneumonia_Classification/Pneumonia_dataset/Processed/val/\",\n",
    "    loader=load_file, extensions=\"npy\", transform=val_transforms)\n"
   ]
  },
  {
   "cell_type": "code",
   "execution_count": null,
   "id": "b076a708",
   "metadata": {},
   "outputs": [],
   "source": [
    "fig, axis = plt.subplots(2, 2, figsize=(9, 9))\n",
    "for i in range(2):\n",
    "    for j in range(2):\n",
    "        random_index = np.random.randint(0, 20000)\n",
    "        x_ray, label = train_dataset[random_index]\n",
    "        axis[i][j].imshow(x_ray[0], cmap=\"bone\")\n",
    "        axis[i][j].set_title(f\"Label:{label}\")\n"
   ]
  },
  {
   "cell_type": "code",
   "execution_count": null,
   "id": "29836ff2",
   "metadata": {},
   "outputs": [],
   "source": [
    "batch_size = 64\n",
    "num_workers = 0\n",
    "\n",
    "train_loader = torch.utils.data.DataLoader(train_dataset, batch_size=batch_size, num_workers=num_workers, shuffle=True)\n",
    "val_loader = torch.utils.data.DataLoader(val_dataset, batch_size=batch_size, num_workers=num_workers, shuffle=False)\n",
    "\n",
    "print(f\"There are {len(train_dataset)} train images and {len(val_dataset)} val images\")"
   ]
  },
  {
   "cell_type": "code",
   "execution_count": null,
   "id": "fd73b2b1",
   "metadata": {},
   "outputs": [],
   "source": [
    "np.unique(train_dataset.targets, return_counts=True), np.unique(val_dataset.targets, return_counts=True)"
   ]
  },
  {
   "cell_type": "code",
   "execution_count": null,
   "id": "1f78c4b2",
   "metadata": {},
   "outputs": [],
   "source": [
    "class PneumoniaModel(pl.LightningModule):\n",
    "    def __init__(self, weight=1):\n",
    "        super().__init__()\n",
    "        \n",
    "        self.model = torchvision.models.resnet18()\n",
    "        # change conv1 from 3 to 1 input channels\n",
    "        self.model.conv1 = torch.nn.Conv2d(1, 64, kernel_size=(7, 7), stride=(2, 2), padding=(3, 3), bias=False)\n",
    "        # change out_feature of the last fully connected layer (called fc in resnet18) from 1000 to 1\n",
    "        self.model.fc = torch.nn.Linear(in_features=512, out_features=1)\n",
    "        \n",
    "        self.optimizer = torch.optim.Adam(self.model.parameters(), lr=1e-4)\n",
    "        self.loss_fn = torch.nn.BCEWithLogitsLoss(pos_weight=torch.tensor([weight]))\n",
    "        \n",
    "        # simple accuracy computation\n",
    "        self.train_acc = torchmetrics.Accuracy()\n",
    "        self.val_acc = torchmetrics.Accuracy()\n",
    "\n",
    "    def forward(self, data):\n",
    "        pred = self.model(data)\n",
    "        return pred\n",
    "    \n",
    "    def training_step(self, batch, batch_idx):\n",
    "        x_ray, label = batch\n",
    "        label = label.float()  # Convert label to float (just needed for loss computation)\n",
    "        pred = self(x_ray)[:,0]  # Prediction: Make sure prediction and label have same shape\n",
    "        loss = self.loss_fn(pred, label)  # Compute the loss\n",
    "        \n",
    "        # Log loss and batch accuracy\n",
    "        self.log(\"Train Loss\", loss)\n",
    "        self.log(\"Step Train Acc\", self.train_acc(torch.sigmoid(pred), label.int()))\n",
    "        return loss\n",
    "    \n",
    "    \n",
    "    def training_epoch_end(self, outs):\n",
    "        # After one epoch compute the whole train_data accuracy\n",
    "        self.log(\"Train Acc\", self.train_acc.compute())\n",
    "        \n",
    "        \n",
    "    def validation_step(self, batch, batch_idx):\n",
    "        # Same steps as in the training_step\n",
    "        x_ray, label = batch\n",
    "        label = label.float()\n",
    "        pred = self(x_ray)[:,0]  # make sure prediction and label have same shape\n",
    "\n",
    "        loss = self.loss_fn(pred, label)\n",
    "        \n",
    "        # Log validation metrics\n",
    "        self.log(\"Val Loss\", loss)\n",
    "        self.log(\"Step Val Acc\", self.val_acc(torch.sigmoid(pred), label.int()))\n",
    "        return loss\n",
    "    \n",
    "    def validation_epoch_end(self, outs):\n",
    "        self.log(\"Val Acc\", self.val_acc.compute())\n",
    "    \n",
    "    def configure_optimizers(self):\n",
    "        return [self.optimizer]\n",
    "\n"
   ]
  },
  {
   "cell_type": "code",
   "execution_count": null,
   "id": "513d791c",
   "metadata": {},
   "outputs": [],
   "source": [
    "model = PneumoniaModel()  # Instanciate the model"
   ]
  },
  {
   "cell_type": "code",
   "execution_count": null,
   "id": "fac215c1",
   "metadata": {},
   "outputs": [],
   "source": [
    "# Create the checkpoint callback\n",
    "checkpoint_callback = ModelCheckpoint(\n",
    "    monitor='Val Acc',\n",
    "    save_top_k=10,\n",
    "    mode='max')"
   ]
  },
  {
   "cell_type": "code",
   "execution_count": null,
   "id": "53731c73",
   "metadata": {},
   "outputs": [],
   "source": [
    "# Create the trainer\n",
    "\n",
    "gpus = 1 \n",
    "trainer = pl.Trainer(gpus=gpus, logger=TensorBoardLogger(save_dir=\"./logs\"), log_every_n_steps=1,\n",
    "                     callbacks=checkpoint_callback,\n",
    "                     max_epochs=35)\n"
   ]
  },
  {
   "cell_type": "code",
   "execution_count": null,
   "id": "abec2374",
   "metadata": {},
   "outputs": [],
   "source": [
    "trainer.fit(model, train_loader, val_loader)\n",
    "\n"
   ]
  },
  {
   "cell_type": "code",
   "execution_count": null,
   "id": "5190d4eb",
   "metadata": {},
   "outputs": [],
   "source": [
    "device = torch.device(\"cuda:0\" if torch.cuda.is_available() else \"cpu\")\n",
    "\n",
    "# Use strict=False, otherwise we would want to match the pos_weight which is not necessary\n",
    "model = PneumoniaModel.load_from_checkpoint(\"weights/weights_1.ckpt\")\n",
    "model.eval()\n",
    "model.to(device);"
   ]
  },
  {
   "cell_type": "code",
   "execution_count": null,
   "id": "301afaf0",
   "metadata": {},
   "outputs": [],
   "source": [
    "preds = []\n",
    "labels = []\n",
    "\n",
    "with torch.no_grad():\n",
    "    for data, label in tqdm(val_dataset):\n",
    "        data = data.to(device).float().unsqueeze(0)\n",
    "        pred = torch.sigmoid(model(data)[0].cpu())\n",
    "        preds.append(pred)\n",
    "        labels.append(label)\n",
    "preds = torch.tensor(preds)\n",
    "labels = torch.tensor(labels).int()\n"
   ]
  },
  {
   "cell_type": "code",
   "execution_count": null,
   "id": "bec55fae",
   "metadata": {},
   "outputs": [],
   "source": [
    "acc = torchmetrics.Accuracy()(preds, labels)\n",
    "precision = torchmetrics.Precision()(preds, labels)\n",
    "recall = torchmetrics.Recall()(preds, labels)\n",
    "cm = torchmetrics.ConfusionMatrix(num_classes=2)(preds, labels)\n",
    "cm_threshed = torchmetrics.ConfusionMatrix(num_classes=2, threshold=0.25)(preds, labels)\n",
    "\n",
    "print(f\"Val Accuracy: {acc}\")\n",
    "print(f\"Val Precision: {precision}\")\n",
    "print(f\"Val Recall: {recall}\")\n",
    "print(f\"Confusion Matrix:\\n {cm}\")\n",
    "print(f\"Confusion Matrix 2:\\n {cm_threshed}\")"
   ]
  },
  {
   "cell_type": "code",
   "execution_count": null,
   "id": "ef0a3048",
   "metadata": {},
   "outputs": [],
   "source": [
    "fig, axis = plt.subplots(3, 3, figsize=(9, 9))\n",
    "\n",
    "for i in range(3):\n",
    "    for j in range(3):\n",
    "        rnd_idx = np.random.randint(0, len(preds))\n",
    "        axis[i][j].imshow(val_dataset[rnd_idx][0][0], cmap=\"bone\")\n",
    "        axis[i][j].set_title(f\"Pred:{int(preds[rnd_idx] > 0.5)}, Label:{labels[rnd_idx]}\")\n",
    "        axis[i][j].axis(\"off\")\n"
   ]
  },
  {
   "cell_type": "markdown",
   "id": "0f1542a1",
   "metadata": {},
   "source": [
    "## Interpretation"
   ]
  },
  {
   "cell_type": "code",
   "execution_count": null,
   "id": "a74d5da2",
   "metadata": {},
   "outputs": [],
   "source": [
    "%matplotlib notebook\n",
    "import torch\n",
    "import torchvision\n",
    "from torchvision import transforms\n",
    "import pytorch_lightning as pl\n",
    "import numpy as np\n",
    "import matplotlib.pyplot as plt"
   ]
  },
  {
   "cell_type": "code",
   "execution_count": null,
   "id": "5f63bddd",
   "metadata": {},
   "outputs": [],
   "source": [
    "def load_file(path):\n",
    "    return np.load(path).astype(np.float32)\n"
   ]
  },
  {
   "cell_type": "code",
   "execution_count": null,
   "id": "bb3a1d56",
   "metadata": {},
   "outputs": [],
   "source": [
    "val_transforms = transforms.Compose([\n",
    "                                transforms.ToTensor(),\n",
    "                                transforms.Normalize(0.49, 0.248),\n",
    "\n",
    "])\n",
    "\n",
    "val_dataset = torchvision.datasets.DatasetFolder(\"C:/Users/yashs/Desktop/Pneumonia_Classification/Pneumonia_dataset/Processed/val/\", loader=load_file, extensions=\"npy\", transform=val_transforms)"
   ]
  },
  {
   "cell_type": "code",
   "execution_count": null,
   "id": "20d97df2",
   "metadata": {},
   "outputs": [],
   "source": [
    "temp_model = torchvision.models.resnet18()\n",
    "temp_model"
   ]
  },
  {
   "cell_type": "code",
   "execution_count": null,
   "id": "b2655707",
   "metadata": {},
   "outputs": [],
   "source": [
    "list(temp_model.children())[:-2]  # get all layers up to avgpool"
   ]
  },
  {
   "cell_type": "code",
   "execution_count": null,
   "id": "d176bf93",
   "metadata": {},
   "outputs": [],
   "source": [
    "torch.nn.Sequential(*list(temp_model.children())[:-2])"
   ]
  },
  {
   "cell_type": "code",
   "execution_count": null,
   "id": "f7ee4f5b",
   "metadata": {},
   "outputs": [],
   "source": [
    "class PneumoniaModel(pl.LightningModule):\n",
    "    def __init__(self):\n",
    "        super().__init__()\n",
    "        \n",
    "        self.model = torchvision.models.resnet18()\n",
    "        # Change conv1 from 3 to 1 input channels\n",
    "        self.model.conv1 = torch.nn.Conv2d(1, 64, kernel_size=(7, 7), stride=(2, 2), padding=(3, 3), bias=False)\n",
    "        # Change out_feature of the last fully connected layer (called fc in resnet18) from 1000 to 1\n",
    "        self.model.fc = torch.nn.Linear(in_features=512, out_features=1)\n",
    "        \n",
    "        # Extract the feature map\n",
    "        self.feature_map = torch.nn.Sequential(*list(self.model.children())[:-2])    \n",
    "    def forward(self, data):\n",
    "        \n",
    "        # Compute feature map\n",
    "        feature_map = self.feature_map(data)\n",
    "        # Use Adaptive Average Pooling as in the original model\n",
    "        avg_pool_output = torch.nn.functional.adaptive_avg_pool2d(input=feature_map, output_size=(1, 1))\n",
    "        print(avg_pool_output.shape)\n",
    "        # Flatten the output into a 512 element vector\n",
    "        avg_pool_output_flattened = torch.flatten(avg_pool_output)\n",
    "        print(avg_pool_output_flattened.shape)\n",
    "        # Compute prediction\n",
    "        pred = self.model.fc(avg_pool_output_flattened)\n",
    "        return pred, feature_map\n",
    "    \n"
   ]
  },
  {
   "cell_type": "code",
   "execution_count": null,
   "id": "f0c58c63",
   "metadata": {},
   "outputs": [],
   "source": [
    "def cam(model, img):\n",
    "    with torch.no_grad():\n",
    "        pred, features = model(img.unsqueeze(0))\n",
    "    features = features.reshape((512, 49))\n",
    "    weight_params = list(model.model.fc.parameters())[0]\n",
    "    weight = weight_params[0].detach()\n",
    "    \n",
    "    \n",
    "    cam = torch.matmul(weight, features)\n",
    "    cam_img = cam.reshape(7, 7).cpu()\n",
    "    return cam_img, torch.sigmoid(pred)"
   ]
  },
  {
   "cell_type": "code",
   "execution_count": null,
   "id": "76a9b28b",
   "metadata": {},
   "outputs": [],
   "source": [
    "# Use strict to prevent pytorch from loading weights for self.feature_map\n",
    "model = PneumoniaModel.load_from_checkpoint(\"C:/Users/yashs/Desktop/Pneumonia_Classification/weights/weights_3.ckpt\", strict=False)\n",
    "model.eval();"
   ]
  },
  {
   "cell_type": "code",
   "execution_count": null,
   "id": "f7894214",
   "metadata": {},
   "outputs": [],
   "source": [
    "def cam(model, img):\n",
    "    \"\"\"\n",
    "    Compute class activation map according to cam algorithm\n",
    "    \"\"\"\n",
    "    with torch.no_grad():\n",
    "        pred, features = model(img.unsqueeze(0))\n",
    "    b, c, h, w = features.shape\n",
    "\n",
    "    # We reshape the 512x7x7 feature tensor into a 512x49 tensor in order to simplify the multiplication\n",
    "    features = features.reshape((c, h*w))\n",
    "    \n",
    "    # Get only the weights, not the bias\n",
    "    weight_params = list(model.model.fc.parameters())[0] \n",
    "    \n",
    "    # Remove gradient information from weight parameters to enable numpy conversion\n",
    "    weight = weight_params[0].detach()\n",
    "    print(weight.shape)\n",
    "    # Compute multiplication between weight and features with the formula from above.\n",
    "    # We use matmul because it directly multiplies each filter with the weights\n",
    "    # and then computes the sum. This yields a vector of 49 (7x7 elements)\n",
    "    cam = torch.matmul(weight, features)\n",
    "    print(features.shape)\n",
    "    \n",
    "    cam = cam - torch.min(cam)\n",
    "    cam_img = cam / torch.max(cam)\n",
    "    # Reshape the class activation map to 512x7x7 and move the tensor back to CPU\n",
    "    cam_img = cam_img.reshape(h, w).cpu()\n",
    "\n",
    "    return cam_img, torch.sigmoid(pred)\n",
    "\n",
    "def visualize(img, heatmap, pred):\n",
    "    \"\"\"\n",
    "    Visualization function for class activation maps\n",
    "    \"\"\"\n",
    "    img = img[0]\n",
    "    # Resize the activation map of size 7x7 to the original image size (224x224)\n",
    "    heatmap = transforms.functional.resize(heatmap.unsqueeze(0), (img.shape[0], img.shape[1]))[0]\n",
    "    \n",
    "    # Create a figure\n",
    "    fig, axis = plt.subplots(1, 2)\n",
    "    \n",
    "    axis[0].imshow(img, cmap=\"bone\")\n",
    "    # Overlay the original image with the upscaled class activation map\n",
    "    axis[1].imshow(img, cmap=\"bone\")\n",
    "    axis[1].imshow(heatmap, alpha=0.5, cmap=\"jet\")\n",
    "    plt.title(f\"Pneumonia: {(pred > 0.5).item()}\")"
   ]
  },
  {
   "cell_type": "code",
   "execution_count": null,
   "id": "6bf7e61c",
   "metadata": {},
   "outputs": [],
   "source": [
    "def visualize(img, cam, pred):\n",
    "    img = img[0]\n",
    "    cam = transforms.functional.resize(cam.unsqueeze(0), (224, 224))[0]\n",
    "    \n",
    "    fig, axis = plt.subplots(1, 2)\n",
    "    axis[0].imshow(img, cmap=\"bone\")\n",
    "    axis[1].imshow(img, cmap=\"bone\")\n",
    "    axis[1].imshow(cam, alpha=0.5, cmap=\"jet\")\n",
    "    plt.title(pred)"
   ]
  },
  {
   "cell_type": "code",
   "execution_count": null,
   "id": "69de063b",
   "metadata": {},
   "outputs": [],
   "source": [
    "img = val_dataset[-6][0]  # Select a subject\n",
    "activation_map, pred = cam(model, img)  # Compute the Class activation map given the subject"
   ]
  },
  {
   "cell_type": "code",
   "execution_count": null,
   "id": "3a69cb57",
   "metadata": {},
   "outputs": [],
   "source": [
    "visualize(img, activation_map, pred)  # Visualize CAM"
   ]
  }
 ],
 "metadata": {
  "kernelspec": {
   "display_name": "Python 3",
   "language": "python",
   "name": "python3"
  },
  "language_info": {
   "codemirror_mode": {
    "name": "ipython",
    "version": 3
   },
   "file_extension": ".py",
   "mimetype": "text/x-python",
   "name": "python",
   "nbconvert_exporter": "python",
   "pygments_lexer": "ipython3",
   "version": "3.8.8"
  }
 },
 "nbformat": 4,
 "nbformat_minor": 5
}
